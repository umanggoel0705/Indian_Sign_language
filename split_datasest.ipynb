{
 "cells": [
  {
   "cell_type": "code",
   "execution_count": 11,
   "id": "584cc83b-83f2-4a37-bedd-76b9d5e6c60c",
   "metadata": {},
   "outputs": [],
   "source": [
    "import splitfolders"
   ]
  },
  {
   "cell_type": "code",
   "execution_count": 14,
   "id": "d0a04d6b-b423-448c-ab44-a89c27017599",
   "metadata": {},
   "outputs": [],
   "source": [
    "input_folder = 'dataset'\n",
    "output_folder = 'final_data'\n",
    "\n",
    "splitfolders.ratio(input_folder, output=output_folder, seed=42, ratio=(0.7, 0.2, 0.1))"
   ]
  }
 ],
 "metadata": {
  "kernelspec": {
   "display_name": "Python 3 (ipykernel)",
   "language": "python",
   "name": "python3"
  },
  "language_info": {
   "codemirror_mode": {
    "name": "ipython",
    "version": 3
   },
   "file_extension": ".py",
   "mimetype": "text/x-python",
   "name": "python",
   "nbconvert_exporter": "python",
   "pygments_lexer": "ipython3",
   "version": "3.12.7"
  }
 },
 "nbformat": 4,
 "nbformat_minor": 5
}
